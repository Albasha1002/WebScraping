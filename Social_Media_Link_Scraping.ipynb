{
  "nbformat": 4,
  "nbformat_minor": 0,
  "metadata": {
    "colab": {
      "provenance": []
    },
    "kernelspec": {
      "name": "python3",
      "display_name": "Python 3"
    },
    "language_info": {
      "name": "python"
    }
  },
  "cells": [
    {
      "cell_type": "code",
      "execution_count": 1,
      "metadata": {
        "id": "-vOw_is1J1QT"
      },
      "outputs": [],
      "source": [
        "import requests"
      ]
    },
    {
      "cell_type": "code",
      "source": [
        "from bs4 import BeautifulSoup as bs"
      ],
      "metadata": {
        "id": "jSWDlwMWy75m"
      },
      "execution_count": 6,
      "outputs": []
    },
    {
      "cell_type": "code",
      "source": [
        "r=requests.get(\"https://keithgalli.github.io/web-scraping/webpage.html\")"
      ],
      "metadata": {
        "id": "YBu3_p0bysp4"
      },
      "execution_count": 4,
      "outputs": []
    },
    {
      "cell_type": "code",
      "source": [
        "webpage=bs(r.content)"
      ],
      "metadata": {
        "id": "oRLlci2Jy010"
      },
      "execution_count": 8,
      "outputs": []
    },
    {
      "cell_type": "code",
      "source": [
        "webpage"
      ],
      "metadata": {
        "colab": {
          "base_uri": "https://localhost:8080/"
        },
        "id": "d9nXqGW3y1SS",
        "outputId": "5331eee9-5f12-4143-bc7e-62887ae9377d"
      },
      "execution_count": 9,
      "outputs": [
        {
          "output_type": "execute_result",
          "data": {
            "text/plain": [
              "<html><head>\n",
              "<title>Keith Galli's Page</title>\n",
              "<style>\n",
              "  table {\n",
              "    border-collapse: collapse;\n",
              "  }\n",
              "  th {\n",
              "    padding:5px;\n",
              "  }\n",
              "  td {\n",
              "    border: 1px solid #ddd;\n",
              "    padding: 5px;\n",
              "  }\n",
              "  tr:nth-child(even) {\n",
              "    background-color: #f2f2f2;\n",
              "  }\n",
              "  th {\n",
              "    padding-top: 12px;\n",
              "    padding-bottom: 12px;\n",
              "    text-align: left;\n",
              "    background-color: #add8e6;\n",
              "    color: black;\n",
              "  }\n",
              "  .block {\n",
              "  width: 100px;\n",
              "  /*float: left;*/\n",
              "    display: inline-block;\n",
              "    zoom: 1;\n",
              "  }\n",
              "  .column {\n",
              "  float: left;\n",
              "  height: 200px;\n",
              "  /*width: 33.33%;*/\n",
              "  padding: 5px;\n",
              "  }\n",
              "\n",
              "  .row::after {\n",
              "    content: \"\";\n",
              "    clear: both;\n",
              "    display: table;\n",
              "  }\n",
              "</style>\n",
              "</head>\n",
              "<body>\n",
              "<h1>Welcome to my page!</h1>\n",
              "<img src=\"./images/selfie1.jpg\" width=\"300px\"/>\n",
              "<h2>About me</h2>\n",
              "<p>Hi, my name is Keith and I am a YouTuber who focuses on content related to programming, data science, and machine learning!</p>\n",
              "<p>Here is a link to my channel: <a href=\"https://www.youtube.com/kgmit\">youtube.com/kgmit</a></p>\n",
              "<p>I grew up in the great state of New Hampshire here in the USA. From an early age I always loved math. Around my senior year of high school, my brother first introduced me to programming. I found it a creative way to apply the same type of logical thinking skills that I enjoyed with math. This influenced me to study computer science in college and ultimately create a YouTube channel to share some things that I have learned along the way.</p>\n",
              "<h3>Hobbies</h3>\n",
              "<p>Believe it or not, I don't code 24/7. I love doing all sorts of active things. I like to play ice hockey &amp; table tennis as well as run, hike, skateboard, and snowboard. In addition to sports, I am a board game enthusiast. The two that I've been playing the most recently are <i>Settlers of Catan</i> and <i>Othello</i>.</p>\n",
              "<h3>Fun Facts</h3>\n",
              "<ul class=\"fun-facts\">\n",
              "<li>Owned my dream car in high school <a href=\"#footer\"><sup>1</sup></a></li>\n",
              "<li>Middle name is Ronald</li>\n",
              "<li>Never had been on a plane until college</li>\n",
              "<li>Dunkin Donuts coffee is better than Starbucks</li>\n",
              "<li>A favorite book series of mine is <i>Ender's Game</i></li>\n",
              "<li>Current video game of choice is <i>Rocket League</i></li>\n",
              "<li>The band that I've seen the most times live is the <i>Zac Brown Band</i></li>\n",
              "</ul>\n",
              "<h2>Social Media</h2>\n",
              "  I encourage you to check out my content on all social media platforms\n",
              "  <br/>\n",
              "<ul class=\"socials\">\n",
              "<li class=\"social instagram\"><b>Instagram: </b><a href=\"https://www.instagram.com/keithgalli/\">https://www.instagram.com/keithgalli/</a></li>\n",
              "<li class=\"social twitter\"><b>Twitter: </b><a href=\"https://twitter.com/keithgalli\">https://twitter.com/keithgalli</a></li>\n",
              "<li class=\"social linkedin\"><b>LinkedIn: </b><a href=\"https://www.linkedin.com/in/keithgalli/\">https://www.linkedin.com/in/keithgalli/</a></li>\n",
              "<li class=\"social tiktok\"><b>TikTok: </b><a href=\"https://www.tiktok.com/@keithgalli\">https://www.tiktok.com/@keithgalli</a></li>\n",
              "</ul>\n",
              "<h2>Photos</h2>\n",
              "  Here are a few photos from a trip to italy I took last year\n",
              "  <div class=\"row\">\n",
              "<div class=\"column\">\n",
              "<img alt=\"Lake Como\" src=\"images/italy/lake_como.jpg\" style=\"height:100%\"/>\n",
              "</div>\n",
              "<div class=\"column\">\n",
              "<img alt=\"Pontevecchio, Florence\" src=\"images/italy/pontevecchio.jpg\" style=\"height:100%\"/>\n",
              "</div>\n",
              "<div class=\"column\">\n",
              "<img alt=\"Riomaggiore, Cinque de Terre\" src=\"images/italy/riomaggiore.jpg\" style=\"height:100%\"/>\n",
              "</div>\n",
              "</div>\n",
              "<div></div>\n",
              "<h2> Table </h2>\n",
              "  My MIT hockey stats :) \n",
              "  <br/>\n",
              "<table class=\"hockey-stats\">\n",
              "<thead>\n",
              "<tr>\n",
              "<th class=\"season\" data-sort=\"\">S</th>\n",
              "<th class=\"team\" data-sort=\"team\">Team</th>\n",
              "<th class=\"league\" data-sort=\"league\">League</th>\n",
              "<th class=\"regular gp\" data-sort=\"gp\">GP</th>\n",
              "<th class=\"regular g\" data-sort=\"g\">G</th>\n",
              "<th class=\"regular a\" data-sort=\"a\">A</th>\n",
              "<th class=\"regular tp\" data-sort=\"tp\">TP</th>\n",
              "<th class=\"regular pim\" data-sort=\"pim\">PIM</th>\n",
              "<th class=\"regular pm\" data-sort=\"pm\">+/-</th>\n",
              "<th class=\"separator\"> </th>\n",
              "<th class=\"postseason\">POST</th>\n",
              "<th class=\"postseason gp\" data-sort=\"playoffs-gp\">GP</th>\n",
              "<th class=\"postseason g\" data-sort=\"playoffs-g\">G</th>\n",
              "<th class=\"postseason a\" data-sort=\"playoffs-a\">A</th>\n",
              "<th class=\"postseason tp\" data-sort=\"playoffs-tp\">TP</th>\n",
              "<th class=\"postseason pim\" data-sort=\"playoffs-pim\">PIM</th>\n",
              "<th class=\"postseason pm\" data-sort=\"playoffs-pm\">+/-</th>\n",
              "</tr>\n",
              "</thead>\n",
              "<tbody>\n",
              "<tr class=\"team-continent-NA \">\n",
              "<td class=\"season sorted\">\n",
              "                  2014-15\n",
              "              </td>\n",
              "<td class=\"team\">\n",
              "<i><img src=\"images/flag.png\"/></i>\n",
              "<span class=\"txt-blue\">\n",
              "<a href=\"https://www.eliteprospects.com/team/10263/mit-mass.-inst.-of-tech./2014-2015?tab=stats\"> MIT (Mass. Inst. of Tech.) </a>\n",
              "</span>\n",
              "</td>\n",
              "<td class=\"league\"> <a href=\"https://www.eliteprospects.com/league/acha-ii/stats/2014-2015\"> ACHA II </a> </td>\n",
              "<td class=\"regular gp\">17</td>\n",
              "<td class=\"regular g\">3</td>\n",
              "<td class=\"regular a\">9</td>\n",
              "<td class=\"regular tp\">12</td>\n",
              "<td class=\"regular pim\">20</td>\n",
              "<td class=\"regular pm\"></td>\n",
              "<td class=\"separator\"> | </td>\n",
              "<td class=\"postseason\">\n",
              "<a href=\"https://www.eliteprospects.com/league/acha-ii/stats/2014-2015\"> </a>\n",
              "</td>\n",
              "<td class=\"postseason gp\">\n",
              "</td>\n",
              "<td class=\"postseason g\">\n",
              "</td>\n",
              "<td class=\"postseason a\">\n",
              "</td>\n",
              "<td class=\"postseason tp\">\n",
              "</td>\n",
              "<td class=\"postseason pim\">\n",
              "</td>\n",
              "<td class=\"postseason pm\">\n",
              "</td>\n",
              "</tr>\n",
              "<tr class=\"team-continent-NA \">\n",
              "<td class=\"season sorted\">\n",
              "                  2015-16\n",
              "              </td>\n",
              "<td class=\"team\">\n",
              "<i><img src=\"images/flag.png\"/></i>\n",
              "<span class=\"txt-blue\">\n",
              "<a href=\"https://www.eliteprospects.com/team/10263/mit-mass.-inst.-of-tech./2015-2016?tab=stats\"> MIT (Mass. Inst. of Tech.) </a>\n",
              "</span>\n",
              "</td>\n",
              "<td class=\"league\"> <a href=\"https://www.eliteprospects.com/league/acha-ii/stats/2015-2016\"> ACHA II </a> </td>\n",
              "<td class=\"regular gp\">9</td>\n",
              "<td class=\"regular g\">1</td>\n",
              "<td class=\"regular a\">1</td>\n",
              "<td class=\"regular tp\">2</td>\n",
              "<td class=\"regular pim\">2</td>\n",
              "<td class=\"regular pm\"></td>\n",
              "<td class=\"separator\"> | </td>\n",
              "<td class=\"postseason\">\n",
              "<a href=\"https://www.eliteprospects.com/league/acha-ii/stats/2015-2016\"> </a>\n",
              "</td>\n",
              "<td class=\"postseason gp\">\n",
              "</td>\n",
              "<td class=\"postseason g\">\n",
              "</td>\n",
              "<td class=\"postseason a\">\n",
              "</td>\n",
              "<td class=\"postseason tp\">\n",
              "</td>\n",
              "<td class=\"postseason pim\">\n",
              "</td>\n",
              "<td class=\"postseason pm\">\n",
              "</td>\n",
              "</tr>\n",
              "<tr class=\"team-continent-NA \">\n",
              "<td class=\"season sorted\">\n",
              "                  2016-17\n",
              "              </td>\n",
              "<td class=\"team\">\n",
              "<i><img src=\"images/flag.png\"/></i>\n",
              "<span class=\"txt-blue\">\n",
              "<a href=\"https://www.eliteprospects.com/team/10263/mit-mass.-inst.-of-tech./2016-2017?tab=stats\"> MIT (Mass. Inst. of Tech.) </a>\n",
              "</span>\n",
              "</td>\n",
              "<td class=\"league\"> <a href=\"https://www.eliteprospects.com/league/acha-ii/stats/2016-2017\"> ACHA II </a> </td>\n",
              "<td class=\"regular gp\">12</td>\n",
              "<td class=\"regular g\">5</td>\n",
              "<td class=\"regular a\">5</td>\n",
              "<td class=\"regular tp\">10</td>\n",
              "<td class=\"regular pim\">8</td>\n",
              "<td class=\"regular pm\">0</td>\n",
              "<td class=\"separator\"> | </td>\n",
              "<td class=\"postseason\">\n",
              "</td>\n",
              "<td class=\"postseason gp\">\n",
              "</td>\n",
              "<td class=\"postseason g\">\n",
              "</td>\n",
              "<td class=\"postseason a\">\n",
              "</td>\n",
              "<td class=\"postseason tp\">\n",
              "</td>\n",
              "<td class=\"postseason pim\">\n",
              "</td>\n",
              "<td class=\"postseason pm\">\n",
              "</td>\n",
              "</tr>\n",
              "<tr class=\"team-continent-EU \">\n",
              "<td class=\"season sorted\">\n",
              "                  2017-18\n",
              "              </td>\n",
              "<td class=\"team\">\n",
              "                  Did not play\n",
              "              </td>\n",
              "<td class=\"league\"> <a href=\"https://www.eliteprospects.com/stats\"> </a> </td>\n",
              "<td class=\"regular gp\"></td>\n",
              "<td class=\"regular g\"></td>\n",
              "<td class=\"regular a\"></td>\n",
              "<td class=\"regular tp\"></td>\n",
              "<td class=\"regular pim\"></td>\n",
              "<td class=\"regular pm\"></td>\n",
              "<td class=\"separator\"> | </td>\n",
              "<td class=\"postseason\">\n",
              "<a href=\"https://www.eliteprospects.com/stats\"> </a>\n",
              "</td>\n",
              "<td class=\"postseason gp\">\n",
              "</td>\n",
              "<td class=\"postseason g\">\n",
              "</td>\n",
              "<td class=\"postseason a\">\n",
              "</td>\n",
              "<td class=\"postseason tp\">\n",
              "</td>\n",
              "<td class=\"postseason pim\">\n",
              "</td>\n",
              "<td class=\"postseason pm\">\n",
              "</td>\n",
              "</tr>\n",
              "<tr class=\"team-continent-NA \">\n",
              "<td class=\"season sorted\">\n",
              "                  2018-19\n",
              "              </td>\n",
              "<td class=\"team\">\n",
              "<i><img src=\"images/flag.png\"/></i>\n",
              "<span class=\"txt-blue\">\n",
              "<a href=\"https://www.eliteprospects.com/team/10263/mit-mass.-inst.-of-tech./2018-2019?tab=stats\"> MIT (Mass. Inst. of Tech.) </a>\n",
              "</span>\n",
              "</td>\n",
              "<td class=\"league\"> <a href=\"https://www.eliteprospects.com/league/acha-iii/stats/2018-2019\"> ACHA III </a> </td>\n",
              "<td class=\"regular gp\">8</td>\n",
              "<td class=\"regular g\">5</td>\n",
              "<td class=\"regular a\">10</td>\n",
              "<td class=\"regular tp\">15</td>\n",
              "<td class=\"regular pim\">8</td>\n",
              "<td class=\"regular pm\"></td>\n",
              "<td class=\"separator\"> | </td>\n",
              "<td class=\"postseason\">\n",
              "<a href=\"https://www.eliteprospects.com/league/acha-iii/stats/2018-2019\"> </a>\n",
              "</td>\n",
              "<td class=\"postseason gp\">\n",
              "</td>\n",
              "<td class=\"postseason g\">\n",
              "</td>\n",
              "<td class=\"postseason a\">\n",
              "</td>\n",
              "<td class=\"postseason tp\">\n",
              "</td>\n",
              "<td class=\"postseason pim\">\n",
              "</td>\n",
              "<td class=\"postseason pm\">\n",
              "</td>\n",
              "</tr>\n",
              "</tbody>\n",
              "</table>\n",
              "<h2>Mystery Message Challenge!</h2>\n",
              "<p>If you scrape the links below grabbing the &lt;p&gt; tag with id=\"secret-word\", you'll discover a secret message :)</p>\n",
              "<div width=\"50%\">\n",
              "<div align=\"left\" class=\"block\">\n",
              "<ul>\n",
              "<li><a href=\"challenge/file_1.html\">File 1</a></li>\n",
              "<li><a href=\"challenge/file_2.html\">File 2</a></li>\n",
              "<li><a href=\"challenge/file_3.html\">File 3</a></li>\n",
              "<li><a href=\"challenge/file_4.html\">File 4</a></li>\n",
              "<li><a href=\"challenge/file_5.html\">File 5</a></li>\n",
              "</ul>\n",
              "</div>\n",
              "<div align=\"center\" class=\"block\">\n",
              "<ul>\n",
              "<li><a href=\"challenge/file_6.html\">File 6</a></li>\n",
              "<li><a href=\"challenge/file_7.html\">File 7</a></li>\n",
              "<li><a href=\"challenge/file_8.html\">File 8</a></li>\n",
              "<li><a href=\"challenge/file_9.html\">File 9</a></li>\n",
              "<li><a href=\"challenge/file_10.html\">File 10</a></li>\n",
              "</ul>\n",
              "</div>\n",
              "</div>\n",
              "<h2>Footnotes</h2>\n",
              "<p id=\"footer\">1. This was actually a minivan that I named Debora. Maybe not my dream car, but I loved her nonetheless.</p>\n",
              "</body>\n",
              "</html>"
            ]
          },
          "metadata": {},
          "execution_count": 9
        }
      ]
    },
    {
      "cell_type": "code",
      "source": [
        "webpage.find('ul', attrs={'class':'socials'})"
      ],
      "metadata": {
        "colab": {
          "base_uri": "https://localhost:8080/"
        },
        "id": "aAl-71yTzByj",
        "outputId": "f0fec4f3-0a90-45c8-ed8b-68eb93e7dadb"
      },
      "execution_count": 50,
      "outputs": [
        {
          "output_type": "execute_result",
          "data": {
            "text/plain": [
              "<ul class=\"socials\">\n",
              "<li class=\"social instagram\"><b>Instagram: </b><a href=\"https://www.instagram.com/keithgalli/\">https://www.instagram.com/keithgalli/</a></li>\n",
              "<li class=\"social twitter\"><b>Twitter: </b><a href=\"https://twitter.com/keithgalli\">https://twitter.com/keithgalli</a></li>\n",
              "<li class=\"social linkedin\"><b>LinkedIn: </b><a href=\"https://www.linkedin.com/in/keithgalli/\">https://www.linkedin.com/in/keithgalli/</a></li>\n",
              "<li class=\"social tiktok\"><b>TikTok: </b><a href=\"https://www.tiktok.com/@keithgalli\">https://www.tiktok.com/@keithgalli</a></li>\n",
              "</ul>"
            ]
          },
          "metadata": {},
          "execution_count": 50
        }
      ]
    },
    {
      "cell_type": "code",
      "source": [
        "links=webpage.find('ul', attrs={'class':'socials'})"
      ],
      "metadata": {
        "id": "kfqy1NO15ZdF"
      },
      "execution_count": 117,
      "outputs": []
    },
    {
      "cell_type": "code",
      "source": [
        "l=links.find_all('a')"
      ],
      "metadata": {
        "id": "Wz9YDnoQ6tiS"
      },
      "execution_count": 125,
      "outputs": []
    },
    {
      "cell_type": "code",
      "source": [
        "l"
      ],
      "metadata": {
        "id": "7nO2CX0_PQS4",
        "outputId": "fe13bdc9-4f9e-4568-c8c2-e7b481af576e",
        "colab": {
          "base_uri": "https://localhost:8080/"
        }
      },
      "execution_count": 126,
      "outputs": [
        {
          "output_type": "execute_result",
          "data": {
            "text/plain": [
              "[<a href=\"https://www.instagram.com/keithgalli/\">https://www.instagram.com/keithgalli/</a>,\n",
              " <a href=\"https://twitter.com/keithgalli\">https://twitter.com/keithgalli</a>,\n",
              " <a href=\"https://www.linkedin.com/in/keithgalli/\">https://www.linkedin.com/in/keithgalli/</a>,\n",
              " <a href=\"https://www.tiktok.com/@keithgalli\">https://www.tiktok.com/@keithgalli</a>]"
            ]
          },
          "metadata": {},
          "execution_count": 126
        }
      ]
    },
    {
      "cell_type": "code",
      "source": [
        "l[0].text"
      ],
      "metadata": {
        "colab": {
          "base_uri": "https://localhost:8080/",
          "height": 35
        },
        "id": "tABaQxV17nXl",
        "outputId": "eb96c07a-7d14-4728-bdd8-0457a2e61244"
      },
      "execution_count": 119,
      "outputs": [
        {
          "output_type": "execute_result",
          "data": {
            "text/plain": [
              "'https://www.instagram.com/keithgalli/'"
            ],
            "application/vnd.google.colaboratory.intrinsic+json": {
              "type": "string"
            }
          },
          "metadata": {},
          "execution_count": 119
        }
      ]
    },
    {
      "cell_type": "code",
      "source": [
        "records=[]\n",
        "l=links.find_all('a')\n",
        "for k in l:\n",
        "     print(k.text)\n",
        "     records.append(k.text)"
      ],
      "metadata": {
        "id": "5aZlCWm9KvTS",
        "outputId": "190f2d28-91b6-4db3-c161-9c853b34bf39",
        "colab": {
          "base_uri": "https://localhost:8080/"
        }
      },
      "execution_count": 136,
      "outputs": [
        {
          "output_type": "stream",
          "name": "stdout",
          "text": [
            "https://www.instagram.com/keithgalli/\n",
            "https://twitter.com/keithgalli\n",
            "https://www.linkedin.com/in/keithgalli/\n",
            "https://www.tiktok.com/@keithgalli\n"
          ]
        }
      ]
    },
    {
      "cell_type": "code",
      "source": [
        "records"
      ],
      "metadata": {
        "id": "OkgIGr4RLtxs",
        "outputId": "753813b8-c5ad-448c-ad11-4000b69a32c2",
        "colab": {
          "base_uri": "https://localhost:8080/"
        }
      },
      "execution_count": 137,
      "outputs": [
        {
          "output_type": "execute_result",
          "data": {
            "text/plain": [
              "['https://www.instagram.com/keithgalli/',\n",
              " 'https://twitter.com/keithgalli',\n",
              " 'https://www.linkedin.com/in/keithgalli/',\n",
              " 'https://www.tiktok.com/@keithgalli']"
            ]
          },
          "metadata": {},
          "execution_count": 137
        }
      ]
    },
    {
      "cell_type": "code",
      "source": [
        "import pandas as pd"
      ],
      "metadata": {
        "id": "cX4kVlSVLvTu"
      },
      "execution_count": 138,
      "outputs": []
    },
    {
      "cell_type": "code",
      "source": [
        "SML=pd.DataFrame(records, columns=['Social Media Links'], index=['instagram','twitter','linkedin','tiktok'])"
      ],
      "metadata": {
        "id": "43CTHhuPOX8J"
      },
      "execution_count": 142,
      "outputs": []
    },
    {
      "cell_type": "code",
      "source": [
        "SML.to_csv(\"Social_Media_Links\")"
      ],
      "metadata": {
        "id": "3blVhkCeQljO"
      },
      "execution_count": 143,
      "outputs": []
    },
    {
      "cell_type": "code",
      "source": [],
      "metadata": {
        "id": "qF9ZVNodRNsp"
      },
      "execution_count": null,
      "outputs": []
    }
  ]
}